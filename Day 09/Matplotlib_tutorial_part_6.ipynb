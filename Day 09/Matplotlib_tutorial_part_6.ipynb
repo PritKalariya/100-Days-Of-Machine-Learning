{
 "cells": [
  {
   "cell_type": "markdown",
   "id": "aab35e9c",
   "metadata": {},
   "source": [
    "## Matplotlib Tutorial\n",
    "\n",
    "### Part 6: Histograms\n",
    "\n",
    "**Source**: Corey Schafer [Matplotlib Playlist](https://www.youtube.com/playlist?list=PL-osiE80TeTvipOqomVEeZ1HRrcEvtZB_)"
   ]
  },
  {
   "cell_type": "code",
   "execution_count": 1,
   "id": "5660d417",
   "metadata": {},
   "outputs": [],
   "source": [
    "import pandas as pd\n",
    "import matplotlib.pyplot as plt\n",
    "from matplotlib import rcParams"
   ]
  },
  {
   "cell_type": "code",
   "execution_count": 2,
   "id": "14dcbe84",
   "metadata": {},
   "outputs": [],
   "source": [
    "rcParams[\"figure.dpi\"] = 100\n",
    "plt.style.use(\"ggplot\")"
   ]
  },
  {
   "cell_type": "code",
   "execution_count": 3,
   "id": "ba79ff93",
   "metadata": {},
   "outputs": [],
   "source": [
    "%matplotlib inline"
   ]
  },
  {
   "cell_type": "code",
   "execution_count": 4,
   "id": "a908c566",
   "metadata": {},
   "outputs": [],
   "source": [
    "ages = [18, 19, 21, 25, 26, 26, 30, 32, 38, 45, 55]\n",
    "bins = [10, 20, 30, 40, 50, 60]"
   ]
  },
  {
   "cell_type": "markdown",
   "id": "dd1d257b",
   "metadata": {},
   "source": [
    "### Use `plt.hist()` to create a histogram\n",
    "\n",
    "- We need to pass data for x-axis\n",
    "- And bins (range) like, 2 people comes in age group of 10-20\n",
    "- Add parameter `edgecolor` to pass color of edge for each bin."
   ]
  },
  {
   "cell_type": "code",
   "execution_count": 5,
   "id": "b254c077",
   "metadata": {},
   "outputs": [
    {
     "data": {
      "image/png": "[encoded data removed]",
      "text/plain": [
       "<Figure size 432x288 with 1 Axes>"
      ]
     },
     "metadata": {
      "needs_background": "light"
     },
     "output_type": "display_data"
    }
   ],
   "source": [
    "plt.title(\"Ages of people\")\n",
    "plt.xlabel(\"Ages\")\n",
    "plt.ylabel(\"No. of people\")\n",
    "plt.hist(ages, bins=bins, color=\"#0000FF\", edgecolor=\"black\")\n",
    "plt.tight_layout()"
   ]
  },
  {
   "cell_type": "markdown",
   "id": "2d6a8d5d",
   "metadata": {},
   "source": [
    "### Plotting a histogram on Age of developers"
   ]
  },
  {
   "cell_type": "code",
   "execution_count": 6,
   "id": "ab3cd009",
   "metadata": {},
   "outputs": [
    {
     "data": {
      "text/html": [
       "<div>\n",
       "<style scoped>\n",
       "    .dataframe tbody tr th:only-of-type {\n",
       "        vertical-align: middle;\n",
       "    }\n",
       "\n",
       "    .dataframe tbody tr th {\n",
       "        vertical-align: top;\n",
       "    }\n",
       "\n",
       "    .dataframe thead th {\n",
       "        text-align: right;\n",
       "    }\n",
       "</style>\n",
       "<table border=\"1\" class=\"dataframe\">\n",
       "  <thead>\n",
       "    <tr style=\"text-align: right;\">\n",
       "      <th></th>\n",
       "      <th>Id</th>\n",
       "      <th>Age</th>\n",
       "    </tr>\n",
       "  </thead>\n",
       "  <tbody>\n",
       "    <tr>\n",
       "      <th>0</th>\n",
       "      <td>1</td>\n",
       "      <td>14</td>\n",
       "    </tr>\n",
       "    <tr>\n",
       "      <th>1</th>\n",
       "      <td>2</td>\n",
       "      <td>19</td>\n",
       "    </tr>\n",
       "    <tr>\n",
       "      <th>2</th>\n",
       "      <td>3</td>\n",
       "      <td>28</td>\n",
       "    </tr>\n",
       "    <tr>\n",
       "      <th>3</th>\n",
       "      <td>4</td>\n",
       "      <td>22</td>\n",
       "    </tr>\n",
       "    <tr>\n",
       "      <th>4</th>\n",
       "      <td>5</td>\n",
       "      <td>30</td>\n",
       "    </tr>\n",
       "  </tbody>\n",
       "</table>\n",
       "</div>"
      ],
      "text/plain": [
       "   Id  Age\n",
       "0   1   14\n",
       "1   2   19\n",
       "2   3   28\n",
       "3   4   22\n",
       "4   5   30"
      ]
     },
     "execution_count": 6,
     "metadata": {},
     "output_type": "execute_result"
    }
   ],
   "source": [
    "data = pd.read_csv(\"./data/age_data.csv\")\n",
    "data.head()"
   ]
  },
  {
   "cell_type": "code",
   "execution_count": 7,
   "id": "b5c6b97f",
   "metadata": {},
   "outputs": [],
   "source": [
    "ids = data[\"Id\"]\n",
    "ages = data.Age"
   ]
  },
  {
   "cell_type": "code",
   "execution_count": 8,
   "id": "5bcdf4c7",
   "metadata": {},
   "outputs": [
    {
     "data": {
      "text/plain": [
       "<matplotlib.legend.Legend at 0x1be61931730>"
      ]
     },
     "execution_count": 8,
     "metadata": {},
     "output_type": "execute_result"
    },
    {
     "data": {
      "image/png": "[encoded data removed]",
      "text/plain": [
       "<Figure size 432x288 with 1 Axes>"
      ]
     },
     "metadata": {
      "needs_background": "light"
     },
     "output_type": "display_data"
    }
   ],
   "source": [
    "plt.title(\"Age of developers\")\n",
    "plt.xlabel(\"Ages\")\n",
    "plt.ylabel(\"No. of developers\")\n",
    "bins = [i for i in range(10, 106, 5)]\n",
    "plt.hist(ages, bins=bins, color=\"#0000FF\", edgecolor=\"black\", label=\"Age\")\n",
    "plt.legend()"
   ]
  },
  {
   "cell_type": "markdown",
   "id": "00adb74c",
   "metadata": {},
   "source": [
    "### We can convert the y-axis to a logarithm scale, so that values are in log"
   ]
  },
  {
   "cell_type": "code",
   "execution_count": 9,
   "id": "cd9629dd",
   "metadata": {},
   "outputs": [
    {
     "data": {
      "text/plain": [
       "<matplotlib.legend.Legend at 0x1be619f02e0>"
      ]
     },
     "execution_count": 9,
     "metadata": {},
     "output_type": "execute_result"
    },
    {
     "data": {
      "image/png": "[encoded data removed]",
      "text/plain": [
       "<Figure size 432x288 with 1 Axes>"
      ]
     },
     "metadata": {
      "needs_background": "light"
     },
     "output_type": "display_data"
    }
   ],
   "source": [
    "plt.title(\"Age of developers\")\n",
    "plt.xlabel(\"Ages\")\n",
    "plt.ylabel(\"No. of developers\")\n",
    "plt.hist(ages, bins=bins, color=\"#0000FF\", edgecolor=\"black\", label=\"Age\", log=True)\n",
    "plt.legend()"
   ]
  },
  {
   "cell_type": "markdown",
   "id": "45451ac1",
   "metadata": {},
   "source": [
    "### To add a vertical line in the histogram, use `plt.axvline()` and pass `x` axis point, where to make the line"
   ]
  },
  {
   "cell_type": "code",
   "execution_count": 10,
   "id": "315760f5",
   "metadata": {},
   "outputs": [
    {
     "data": {
      "text/plain": [
       "<matplotlib.legend.Legend at 0x1be61c47e80>"
      ]
     },
     "execution_count": 10,
     "metadata": {},
     "output_type": "execute_result"
    },
    {
     "data": {
      "image/png": "[encoded data removed]",
      "text/plain": [
       "<Figure size 432x288 with 1 Axes>"
      ]
     },
     "metadata": {
      "needs_background": "light"
     },
     "output_type": "display_data"
    }
   ],
   "source": [
    "median_age = data[\"Age\"].median()\n",
    "plt.title(\"Age of developers\")\n",
    "plt.xlabel(\"Ages\")\n",
    "plt.ylabel(\"No. of developers\")\n",
    "plt.hist(ages, bins=bins, color=\"#0000FF\", edgecolor=\"black\", label=\"Age\", log=True)\n",
    "# axis vertical line\n",
    "plt.axvline(median_age, label=\"Age Median\")\n",
    "plt.legend()"
   ]
  }
 ],
 "metadata": {
  "kernelspec": {
   "display_name": "Python 3",
   "language": "python",
   "name": "python3"
  },
  "language_info": {
   "codemirror_mode": {
    "name": "ipython",
    "version": 3
   },
   "file_extension": ".py",
   "mimetype": "text/x-python",
   "name": "python",
   "nbconvert_exporter": "python",
   "pygments_lexer": "ipython3",
   "version": "3.9.4"
  }
 },
 "nbformat": 4,
 "nbformat_minor": 5
}
