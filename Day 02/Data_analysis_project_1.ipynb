{
 "cells": [
  {
   "cell_type": "markdown",
   "metadata": {},
   "source": [
    "## FreeCodeCamp Data Analysis with Python Course\n",
    "\n",
    "Project 1 - [Mean-Variance-Standard Deviation Calculator](https://www.freecodecamp.org/learn/data-analysis-with-python/data-analysis-with-python-projects/mean-variance-standard-deviation-calculator)"
   ]
  },
  {
   "cell_type": "code",
   "execution_count": 1,
   "metadata": {},
   "outputs": [],
   "source": [
    "# Answer format:\n",
    "# {\n",
    "#   'mean': [axis1, axis2, flattened],\n",
    "#   'variance': [axis1, axis2, flattened],\n",
    "#   'standard deviation': [axis1, axis2, flattened],\n",
    "#   'max': [axis1, axis2, flattened],\n",
    "#   'min': [axis1, axis2, flattened],\n",
    "#   'sum': [axis1, axis2, flattened]\n",
    "# }"
   ]
  },
  {
   "cell_type": "code",
   "execution_count": 2,
   "metadata": {},
   "outputs": [],
   "source": [
    "import numpy as np"
   ]
  },
  {
   "cell_type": "code",
   "execution_count": 3,
   "metadata": {},
   "outputs": [],
   "source": [
    "def calculate(arr):\n",
    "    \"\"\"\n",
    "    Convert the input into a 3x3 matrix\n",
    "    Calculate mean, variance, standard deviation, max, min, and sum of the rows, columns, and elements in a 3 x 3 matrix.\n",
    "    \"\"\"\n",
    "\n",
    "    # Check the input and raise error\n",
    "    if len(arr) != 9:\n",
    "        raise ValueError(\"List must contain nine numbers.\")\n",
    "\n",
    "\n",
    "    # reshaping the input into a 3x3 matrix\n",
    "    matrix = np.array(arr).reshape(3, 3)\n",
    "\n",
    "\n",
    "    # mean\n",
    "    mean_flattened = np.mean(matrix)\n",
    "    mean_axis1 = list(np.mean(matrix, axis=0))\n",
    "    mean_axis2 = list(np.mean(matrix, axis=1))\n",
    "\n",
    "\n",
    "    # Variance\n",
    "    varience_flattened = np.var(matrix)\n",
    "    varience_axis1 = list(np.var(matrix, axis=0))\n",
    "    varience_axis2 = list(np.var(matrix, axis=1))\n",
    "\n",
    "\n",
    "    # Standard Deviation\n",
    "    sd_flattened = np.std(matrix)\n",
    "    sd_axis1 = list(np.std(matrix, axis=0))\n",
    "    sd_axis2 = list(np.std(matrix, axis=1))\n",
    "\n",
    "\n",
    "    # Max\n",
    "    max_flattened = np.max(matrix)\n",
    "    max_axis1 = list(np.max(matrix, axis=0))\n",
    "    max_axis2 = list(np.max(matrix, axis=1))\n",
    "\n",
    "\n",
    "    # Min\n",
    "    min_flattened = np.min(matrix)\n",
    "    min_axis1 = list(np.min(matrix, axis=0))\n",
    "    min_axis2 = list(np.min(matrix, axis=1))\n",
    "\n",
    "\n",
    "    # Sum\n",
    "    sum_flattened = np.sum(matrix)\n",
    "    sum_axis1 = list(np.sum(matrix, axis=0))\n",
    "    sum_axis2 = list(np.sum(matrix, axis=1))\n",
    "\n",
    "\n",
    "    calculations = {\n",
    "        'mean': [mean_axis1, mean_axis2, mean_flattened],\n",
    "        'variance': [varience_axis1, varience_axis2, varience_flattened],\n",
    "        'standard deviation': [sd_axis1, sd_axis2, sd_flattened],\n",
    "        'max': [max_axis1, max_axis2, max_flattened],\n",
    "        'min': [min_axis1, min_axis2, min_flattened],\n",
    "        'sum': [sum_axis1, sum_axis2, sum_flattened]\n",
    "    }\n",
    "\n",
    "    return calculations"
   ]
  },
  {
   "cell_type": "code",
   "execution_count": 4,
   "metadata": {},
   "outputs": [
    {
     "data": {
      "text/plain": [
       "{'mean': [[3.0, 4.0, 5.0], [1.0, 4.0, 7.0], 4.0],\n",
       " 'variance': [[6.0, 6.0, 6.0],\n",
       "  [0.6666666666666666, 0.6666666666666666, 0.6666666666666666],\n",
       "  6.666666666666667],\n",
       " 'standard deviation': [[2.449489742783178,\n",
       "   2.449489742783178,\n",
       "   2.449489742783178],\n",
       "  [0.816496580927726, 0.816496580927726, 0.816496580927726],\n",
       "  2.581988897471611],\n",
       " 'max': [[6, 7, 8], [2, 5, 8], 8],\n",
       " 'min': [[0, 1, 2], [0, 3, 6], 0],\n",
       " 'sum': [[9, 12, 15], [3, 12, 21], 36]}"
      ]
     },
     "execution_count": 4,
     "metadata": {},
     "output_type": "execute_result"
    }
   ],
   "source": [
    "\"\"\"Answer:\n",
    "{\n",
    "  'mean': [[3.0, 4.0, 5.0], [1.0, 4.0, 7.0], 4.0],\n",
    "  'variance': [[6.0, 6.0, 6.0], [0.6666666666666666, 0.6666666666666666, 0.6666666666666666], 6.666666666666667],\n",
    "  'standard deviation': [[2.449489742783178, 2.449489742783178, 2.449489742783178], [0.816496580927726, 0.816496580927726, 0.816496580927726], 2.581988897471611],\n",
    "  'max': [[6, 7, 8], [2, 5, 8], 8],\n",
    "  'min': [[0, 1, 2], [0, 3, 6], 0],\n",
    "  'sum': [[9, 12, 15], [3, 12, 21], 36]\n",
    "}\"\"\"\n",
    "\n",
    "calculate([0,1,2,3,4,5,6,7,8])"
   ]
  }
 ],
 "metadata": {
  "kernelspec": {
   "display_name": "Python 3.9.4 64-bit",
   "language": "python",
   "name": "python3"
  },
  "language_info": {
   "codemirror_mode": {
    "name": "ipython",
    "version": 3
   },
   "file_extension": ".py",
   "mimetype": "text/x-python",
   "name": "python",
   "nbconvert_exporter": "python",
   "pygments_lexer": "ipython3",
   "version": "3.9.4"
  },
  "orig_nbformat": 4,
  "vscode": {
   "interpreter": {
    "hash": "e31aef8222fb7c235d2ed8e74ce17e973738f89b37261e7466b7a63a6dfb1214"
   }
  }
 },
 "nbformat": 4,
 "nbformat_minor": 2
}
